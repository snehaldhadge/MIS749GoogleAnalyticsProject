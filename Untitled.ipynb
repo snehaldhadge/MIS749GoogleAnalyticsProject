{
 "cells": [
  {
   "cell_type": "code",
   "execution_count": 4,
   "metadata": {},
   "outputs": [],
   "source": [
    "import os\n",
    "import json\n",
    "import numpy as np\n",
    "import pandas as pd\n",
    "from pandas.io.json import json_normalize\n",
    "\n",
    "def load_df(csv_path='ga-customer-revenue-prediction/train.csv', nrows=None):\n",
    "    JSON_COLUMNS = ['device', 'geoNetwork', 'totals', 'trafficSource']\n",
    "\n",
    "    df = pd.read_csv(csv_path, dtype={'fullVisitorId': 'str'}, nrows=nrows)\n",
    "\n",
    "    for column in JSON_COLUMNS:\n",
    "        df = df.join(pd.DataFrame(df.pop(column).apply(pd.io.json.loads).values.tolist(), index=df.index))\n",
    "    return df\n",
    "\n",
    "\n",
    "df_small = load_df(nrows=500)\n",
    "\n",
    "\n"
   ]
  },
  {
   "cell_type": "code",
   "execution_count": 6,
   "metadata": {},
   "outputs": [
    {
     "data": {
      "text/plain": [
       "channelGrouping              object\n",
       "date                          int64\n",
       "fullVisitorId                object\n",
       "sessionId                    object\n",
       "socialEngagementType         object\n",
       "visitId                       int64\n",
       "visitNumber                   int64\n",
       "visitStartTime                int64\n",
       "browser                      object\n",
       "browserVersion               object\n",
       "browserSize                  object\n",
       "operatingSystem              object\n",
       "operatingSystemVersion       object\n",
       "isMobile                       bool\n",
       "mobileDeviceBranding         object\n",
       "mobileDeviceModel            object\n",
       "mobileInputSelector          object\n",
       "mobileDeviceInfo             object\n",
       "mobileDeviceMarketingName    object\n",
       "flashVersion                 object\n",
       "language                     object\n",
       "screenColors                 object\n",
       "screenResolution             object\n",
       "deviceCategory               object\n",
       "continent                    object\n",
       "subContinent                 object\n",
       "country                      object\n",
       "region                       object\n",
       "metro                        object\n",
       "city                         object\n",
       "cityId                       object\n",
       "networkDomain                object\n",
       "latitude                     object\n",
       "longitude                    object\n",
       "networkLocation              object\n",
       "visits                       object\n",
       "hits                         object\n",
       "pageviews                    object\n",
       "bounces                      object\n",
       "newVisits                    object\n",
       "campaign                     object\n",
       "source                       object\n",
       "medium                       object\n",
       "keyword                      object\n",
       "adwordsClickInfo             object\n",
       "isTrueDirect                 object\n",
       "referralPath                 object\n",
       "adContent                    object\n",
       "dtype: object"
      ]
     },
     "execution_count": 6,
     "metadata": {},
     "output_type": "execute_result"
    }
   ],
   "source": [
    "df_small.dtypes"
   ]
  }
 ],
 "metadata": {
  "kernelspec": {
   "display_name": "Python 3",
   "language": "python",
   "name": "python3"
  },
  "language_info": {
   "codemirror_mode": {
    "name": "ipython",
    "version": 3
   },
   "file_extension": ".py",
   "mimetype": "text/x-python",
   "name": "python",
   "nbconvert_exporter": "python",
   "pygments_lexer": "ipython3",
   "version": "3.7.6"
  }
 },
 "nbformat": 4,
 "nbformat_minor": 4
}
